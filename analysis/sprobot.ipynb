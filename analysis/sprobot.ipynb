{
 "cells": [
  {
   "cell_type": "code",
   "execution_count": 2,
   "metadata": {},
   "outputs": [
    {
     "name": "stdout",
     "output_type": "stream",
     "text": [
      "r0=90.000000 h0=20.000000\n",
      "R=(89.799777,241.172138) H=(19.078784,224.641937)\n",
      "a=161.900356 b=86.927888\n",
      "r1=90.000000 h1=20.000000\n"
     ]
    }
   ],
   "source": [
    "from math import *\n",
    "\n",
    "A = 75\n",
    "B = 167\n",
    "C = 48\n",
    "\n",
    "AABB = A * A + B * B\n",
    "AB2 = A * B * 2\n",
    "\n",
    "\n",
    "r=90\n",
    "H=20\n",
    "print(\"r0=%f h0=%f\" % (r,H))\n",
    "print(\"R=(%f,%f) H=(%f,%f)\" % (sqrt((A-B)*(A-B) - H*H), sqrt((A+B)*(A+B) - H*H), sqrt((A-B)*(A-B) - r*r), sqrt((A+B)*(A+B) - r*r)))\n",
    "sinb = (r * r + H * H - AABB) / AB2\n",
    "\n",
    "#print(\"sinb=%f %f:(%f,%f)\" % (sinb, r * r + H * H,AABB-AB2 , AABB+AB2))\n",
    "\n",
    "b = -asin(sinb);\n",
    "a = asin(r / sqrt(AABB + AB2 * sinb)) - atan((A + B*sinb)/(B* cos(b)));\n",
    "\n",
    "print(\"a=%f b=%f\" % (a*180/pi, b*180/pi))\n",
    "\n",
    "r1 = A * cos(a) + B * sin(a-b)\n",
    "h1 = -A * sin(a) + B * cos(a-b)\n",
    "\n",
    "print(\"r1=%f h1=%f\" % (r1,h1))"
   ]
  },
  {
   "cell_type": "code",
   "execution_count": 46,
   "metadata": {},
   "outputs": [
    {
     "name": "stdout",
     "output_type": "stream",
     "text": [
      "r=150.000015\n",
      "x=106.066028 y=106.066028 h=92.000035\n"
     ]
    }
   ],
   "source": [
    "a = 57.4376\n",
    "b = 35.7797\n",
    "c = 45\n",
    "\n",
    "a = a * pi / 180\n",
    "b = b * pi / 180\n",
    "c = c * pi / 180\n",
    "\n",
    "r1 = A * cos(a) + B * sin(a-b) + C\n",
    "h1 = -A * sin(a) + B * cos(a-b)\n",
    "x1 = r1 * cos(c)\n",
    "y1 = r1 * sin(c)\n",
    "\n",
    "print(\"r=%f\" % r1)\n",
    "print(\"x=%f y=%f h=%f\" % (x1,y1,h1))"
   ]
  },
  {
   "cell_type": "code",
   "execution_count": 1,
   "metadata": {},
   "outputs": [],
   "source": [
    "from math import *\n",
    "\n",
    "A = 75\n",
    "B = 167\n",
    "C = 48\n",
    "\n",
    "AABB = A * A + B * B\n",
    "AB2 = A * B * 2\n",
    "\n",
    "def countABC(X, Y, H, Angle):\n",
    "    r = sqrt(X*X + Y*Y) - C;\n",
    "    sinb = (r * r + H * H - AABB) / AB2;\n",
    "    if abs(sinb) <= 1:\n",
    "        b = -asin(sinb)\n",
    "        c = atan(Y / X) - Angle\n",
    "        a = asin(r / sqrt(AABB + AB2 * sinb)) - atan((A + B*sinb)/(B* cos(b)))\n",
    "        return (a * 180 / pi, b * 180 / pi, c * 180 / pi)\n",
    "    else:\n",
    "        return None\n"
   ]
  },
  {
   "cell_type": "code",
   "execution_count": 7,
   "metadata": {},
   "outputs": [
    {
     "name": "stdout",
     "output_type": "stream",
     "text": [
      "(55.602307919214255, 32.744009554801, -14.93141717813755)\n",
      "(55.692119945215886, 32.89248509723347, -14.574216198038739)\n",
      "(55.77973469556147, 33.03733598594287, -14.215853473673556)\n",
      "(55.865146916932474, 33.1785529317679, -13.856351501698546)\n",
      "(55.948351414772645, 33.316126758697344, -13.495733280795813)\n",
      "(56.029343058769925, 33.45004841288488, -13.134022306396323)\n",
      "(56.1081167882694, 33.58030897155424, -12.771242564901442)\n",
      "(56.18466761761273, 33.706899651786806, -12.407418527400743)\n",
      "(56.25899064139929, 33.829811819183895, -12.042575142884985)\n",
      "(56.33108103966453, 33.94903699639544, -11.676737830953996)\n",
      "(56.40093408297037, 34.06456687150723, -11.309932474020213)\n",
      "(56.46854513740354, 34.17639330627861, -10.942185409009367)\n",
      "(56.5339096694761, 34.28450834422206, -10.573523418560919)\n",
      "(56.59702325092425, 34.38890421851693, -10.203973721731684)\n",
      "(56.65788156339989, 34.48957335974876, -9.833563964207116)\n",
      "(56.71648040305032, 34.586508403466226, -9.462322208025617)\n",
      "(56.77281568498143, 34.67970219754743, -9.090276920822323)\n",
      "(56.82688344759944, 34.76914780936746, -8.71745696459966)\n",
      "(56.87867985682624, 34.854838532759295, -8.343891584033095)\n",
      "(56.92820121018415, 34.93676789476002, -7.96961039432136)\n",
      "(56.97544394074513, 35.01492966213484, -7.594643368591445)\n",
      "(57.02040462093994, 35.08931784767087, -7.219020824869663)\n",
      "(57.063079966223135, 35.15992671623363, -6.84277341263094)\n",
      "(57.103466838589156, 35.22675079057875, -6.465932098939534)\n",
      "(57.14156224993558, 35.2897848569119, -6.088528154195175)\n",
      "(57.17736336526953, 35.34902397019001, -5.710593137499643)\n",
      "(57.21086750575333, 35.40446345915751, -5.332158881659557)\n",
      "(57.242072151585155, 35.456098931110695, -4.953257477842062)\n",
      "(57.270974944712144, 35.50392627638484, -4.573921259900861)\n",
      "(57.29757369137144, 35.547941672557826, -4.194182788390857)\n",
      "(57.321866364456575, 35.588141588365076, -3.8140748342903548)\n",
      "(57.34385110570621, 35.62452278732072, -3.4336303624505224)\n",
      "(57.36352622771219, 35.65708233104027, -3.0528825147924286)\n",
      "(57.380890215744195, 35.68581758226017, -2.671864593272588)\n",
      "(57.39594172938916, 35.71072620755077, -2.2906100426385296)\n",
      "(57.40867960400262, 35.73180617971846, -1.9091524329963763)\n",
      "(57.419102851970734, 35.74905577989429, -1.5275254422129272)\n",
      "(57.42721066378087, 35.76247359930601, -1.1457628381751035)\n",
      "(57.43300240889945, 35.77205854073121, -0.7638984609299951)\n",
      "(57.43647763645589, 35.77780981962945, -0.3819662047290255)\n",
      "(57.43763607573205, 35.77972696495227, 0.0)\n",
      "(57.43647763645589, 35.77780981962945, 0.3819662047290255)\n",
      "(57.43300240889945, 35.77205854073121, 0.7638984609299951)\n",
      "(57.42721066378087, 35.76247359930601, 1.1457628381751035)\n",
      "(57.419102851970734, 35.74905577989429, 1.5275254422129272)\n",
      "(57.40867960400262, 35.73180617971846, 1.9091524329963763)\n",
      "(57.39594172938916, 35.71072620755077, 2.2906100426385296)\n",
      "(57.380890215744195, 35.68581758226017, 2.671864593272588)\n",
      "(57.36352622771219, 35.65708233104027, 3.0528825147924286)\n",
      "(57.34385110570621, 35.62452278732072, 3.4336303624505224)\n",
      "(57.321866364456575, 35.588141588365076, 3.8140748342903548)\n",
      "(57.29757369137144, 35.547941672557826, 4.194182788390857)\n",
      "(57.270974944712144, 35.50392627638484, 4.573921259900861)\n",
      "(57.242072151585155, 35.456098931110695, 4.953257477842062)\n",
      "(57.21086750575333, 35.40446345915751, 5.332158881659557)\n",
      "(57.17736336526953, 35.34902397019001, 5.710593137499643)\n",
      "(57.14156224993558, 35.2897848569119, 6.088528154195175)\n",
      "(57.103466838589156, 35.22675079057875, 6.465932098939534)\n",
      "(57.063079966223135, 35.15992671623363, 6.84277341263094)\n",
      "(57.02040462093994, 35.08931784767087, 7.219020824869663)\n",
      "(56.97544394074513, 35.01492966213484, 7.594643368591445)\n",
      "(56.92820121018415, 34.93676789476002, 7.96961039432136)\n",
      "(56.87867985682624, 34.854838532759295, 8.343891584033095)\n",
      "(56.82688344759944, 34.76914780936746, 8.71745696459966)\n",
      "(56.77281568498143, 34.67970219754743, 9.090276920822323)\n",
      "(56.71648040305032, 34.586508403466226, 9.462322208025617)\n",
      "(56.65788156339989, 34.48957335974876, 9.833563964207116)\n",
      "(56.59702325092425, 34.38890421851693, 10.203973721731684)\n",
      "(56.5339096694761, 34.28450834422206, 10.573523418560919)\n",
      "(56.46854513740354, 34.17639330627861, 10.942185409009367)\n",
      "(56.40093408297037, 34.06456687150723, 11.309932474020213)\n",
      "(56.33108103966453, 33.94903699639544, 11.676737830953996)\n",
      "(56.25899064139929, 33.829811819183895, 12.042575142884985)\n",
      "(56.18466761761273, 33.706899651786806, 12.407418527400743)\n",
      "(56.1081167882694, 33.58030897155424, 12.771242564901442)\n",
      "(56.029343058769925, 33.45004841288488, 13.134022306396323)\n",
      "(55.948351414772645, 33.316126758697344, 13.495733280795813)\n",
      "(55.865146916932474, 33.1785529317679, 13.856351501698546)\n",
      "(55.77973469556147, 33.03733598594287, 14.215853473673556)\n",
      "(55.692119945215886, 32.89248509723347, 14.574216198038739)\n"
     ]
    },
    {
     "data": {
      "image/png": "[encoded data removed]",
      "text/plain": [
       "<Figure size 432x288 with 1 Axes>"
      ]
     },
     "metadata": {
      "needs_background": "light"
     },
     "output_type": "display_data"
    }
   ],
   "source": [
    "import matplotlib.pyplot as plt\n",
    "\n",
    "H0 = 92   # normal H\n",
    "X0 = 150  # normal X for side legs\n",
    "Y0 = 0    # normal Y for size legs\n",
    "X1 = 106  # normal X for angle legs: X0 / sqrt(2)\n",
    "Y1 = 106  # normal Y for angle legs: X0 / sqrt(2)\n",
    "Hup = 65  # H for legs up\n",
    "Ym = 40\n",
    "\n",
    "fig, ax = plt.subplots()\n",
    "\n",
    "ym = []\n",
    "sm = []\n",
    "for Y in range(-Ym,Ym):\n",
    "    abc = countABC(X0, Y, H0, 0)\n",
    "    ym.append(Y)\n",
    "    sm.append((abc[0],abc[1]))\n",
    "    print(abc)\n",
    "\n",
    "ax.plot(ym, sm)\n",
    "    \n",
    "#ax.set_xlim(-1*cm, 10*cm)\n",
    "#ax.set_ylim(-1*cm, 10*cm)\n",
    "# ax.xaxis.set_units(inch)\n",
    "ax.grid(True)\n",
    "#ax.set_title(\"Artists with unit\")\n",
    "    \n",
    "plt.show()\n"
   ]
  },
  {
   "cell_type": "code",
   "execution_count": 5,
   "metadata": {},
   "outputs": [
    {
     "data": {
      "text/plain": [
       "-1.0120112591657682"
      ]
     },
     "execution_count": 5,
     "metadata": {},
     "output_type": "execute_result"
    }
   ],
   "source": [
    "from math import *\n",
    "A = 75\n",
    "B = 167\n",
    "C = 48\n",
    "AABB = A * A + B * B\n",
    "AB2 = A * B * 2\n",
    "\n",
    "H0 = 120\n",
    "X0 = 150\n",
    "Y0 = 0\n",
    "X1 = 106\n",
    "Y1 = 106\n",
    "Hup = 60\n",
    "Ym  = 40\n",
    "Ym2  = 60\n",
    "\n",
    "\n",
    "\n",
    "\n",
    "H = Hup\n",
    "X = X1\n",
    "Y = Y1 - Ym2\n",
    "\n",
    "r = sqrt(X*X + Y*Y) - C\n",
    "(r * r + H * H - AABB) / AB2"
   ]
  },
  {
   "cell_type": "code",
   "execution_count": 13,
   "metadata": {},
   "outputs": [
    {
     "name": "stdout",
     "output_type": "stream",
     "text": [
      "225.7700586346319 129.69869071082147\n",
      "118.65143017519806 171.44759494731\n",
      "225.7700586346319 50.301309289178505\n",
      "107.23696815171465 84.66382677593462\n",
      "187.0 180.0\n",
      "107.66857978439342 -147.54044061423537\n",
      "187.0 0.0\n",
      "107.66857978439342 32.459559385764635\n",
      "225.7700586346319 -129.69869071082147\n",
      "107.23696815171463 -95.33617322406536\n",
      "225.7700586346319 -50.301309289178505\n",
      "118.65143017519807 -8.552405052689995\n"
     ]
    },
    {
     "data": {
      "image/png": "[encoded data removed]",
      "text/plain": [
       "<Figure size 432x288 with 1 Axes>"
      ]
     },
     "metadata": {
      "needs_background": "light"
     },
     "output_type": "display_data"
    }
   ],
   "source": [
    "import matplotlib.pyplot as plt\n",
    "from math import *\n",
    "\n",
    "H0 = 92   # normal H\n",
    "X0 = 150  # normal X for side legs\n",
    "Y0 = 0    # normal Y for size legs\n",
    "X1 = 106  # normal X for angle legs: X0 / sqrt(2)\n",
    "Y1 = 106  # normal Y for angle legs: X0 / sqrt(2)\n",
    "Hup = 65  # H for legs up\n",
    "Ym = 40\n",
    "\n",
    "Wm = 174 # between middle\n",
    "Wk = 147 # between angles\n",
    "Hk = 206 # between angles\n",
    "\n",
    "legSize = 100\n",
    "\n",
    "def turn(x, y, a):\n",
    "    r = sqrt(x * x + y * y)\n",
    "    a0 = atan2(y,x)\n",
    "    print(a0 * 180 / pi)\n",
    "    return (r * cos(a0 - a), r * sin(a0 - a))\n",
    "\n",
    "fig, ax = plt.subplots()\n",
    "\n",
    "cx = [-Wk / 2, Wk / 2, -Wm / 2, Wm / 2, -Wk / 2, Wk / 2]\n",
    "cy = [Hk / 2, Hk / 2, 0, 0, -Hk / 2, -Hk / 2]\n",
    "\n",
    "an = [180-45, 45, 180, 0, -(180-45), -45]\n",
    "\n",
    "\n",
    "def getGlobal(i, a, l):\n",
    "    global cx\n",
    "    global cy\n",
    "    global an\n",
    "\n",
    "    a = (a + an[i]) * pi / 180\n",
    "    \n",
    "    return (cx[i] + l * cos(a), cy[i] + l * sin(a))\n",
    "\n",
    "\n",
    "\n",
    "lx = []\n",
    "ly = []\n",
    "\n",
    "ctx = []\n",
    "cty = []\n",
    "\n",
    "ltx = []\n",
    "lty = []\n",
    "\n",
    "turnAngle = pi / 10\n",
    "\n",
    "\n",
    "for i in range(len(an)):\n",
    "    (x,y) = getGlobal(i, 0, legSize)\n",
    "    lx.append(x)\n",
    "    ly.append(y)\n",
    "    \n",
    "    r = sqrt(x*x + y*y)\n",
    "    a = atan2(y,x)\n",
    "    print(r, a * 180 / pi)\n",
    "    x1 = r * cos(a + turnAngle)\n",
    "    y1 = r * sin(a + turnAngle)\n",
    "    ctx.append(x1)\n",
    "    cty.append(y1)\n",
    "\n",
    "    a1 = atan2(y1-cy[i], x1 -cx[i]) * 180 / pi\n",
    "    l = sqrt((y1-cy[i])* (y1-cy[i])  + (x1 -cx[i]) * (x1 -cx[i]))\n",
    "    print(l, a1)\n",
    "    (x2,y2) = getGlobal(i, a1-an[i], l)\n",
    "    ltx.append(x2)\n",
    "    lty.append(y2)\n",
    "    \n",
    "    \n",
    "ax.plot(cx, cy, 'bs', ctx, cty, 'gs', [0], [0], 'rs', lx, ly, 'bo', ltx, lty, 'r*')\n",
    "    \n",
    "ax.grid(True)\n",
    "plt.axis('scaled')\n",
    "plt.show()\n"
   ]
  },
  {
   "cell_type": "code",
   "execution_count": 49,
   "metadata": {},
   "outputs": [
    {
     "name": "stdout",
     "output_type": "stream",
     "text": [
      "r0=150.000000 h0=-40.000000\n",
      "a=70.546417 b=22.074285   a1=75.068583  a2=4.522166 a3=85.477834 a4=-14.931417 a5=100.409251\n",
      "r1=150.000000 h1=-40.000000\n"
     ]
    },
    {
     "data": {
      "image/png": "[encoded data removed]",
      "text/plain": [
       "<Figure size 432x288 with 1 Axes>"
      ]
     },
     "metadata": {
      "needs_background": "light"
     },
     "output_type": "display_data"
    }
   ],
   "source": [
    "from math import *\n",
    "import matplotlib.pyplot as plt\n",
    "\n",
    "A = 75\n",
    "B = 163\n",
    "C = 48\n",
    "\n",
    "AABB = A * A + B * B\n",
    "AB2 = A * B * 2\n",
    "\n",
    "fig, ax = plt.subplots()\n",
    "ax.yaxis.set_inverted(True)\n",
    "\n",
    "r=150\n",
    "#H=180\n",
    "H = -40\n",
    "print(\"r0=%f h0=%f\" % (r,H))\n",
    "#print(\"R=(%f,%f) H=(%f,%f)\" % (sqrt((A-B)*(A-B) - H*H), sqrt((A+B)*(A+B) - H*H), sqrt((A-B)*(A-B) - r*r), sqrt((A+B)*(A+B) - r*r)))\n",
    "g2 = r * r + H * H\n",
    "sinb = (g2 - AABB) / AB2\n",
    "\n",
    "#print(\"sinb=%f %f:(%f,%f)\" % (sinb, r * r + H * H,AABB-AB2 , AABB+AB2))\n",
    "\n",
    "b = -asin(sinb);\n",
    "a1 = asin(r / sqrt(g2))\n",
    "a2 = atan((A + B*sinb)/(B* cos(b)))\n",
    "a = a1 - a2\n",
    "\n",
    "a3 = acos((A*A + g2 - B*B)/(2 * A * sqrt(g2)))\n",
    "#a4 = acos(r/sqrt(g2))\n",
    "a4 = atan2(H,r)\n",
    "#if H < 0:\n",
    "#    a4 = -a4\n",
    "a5 = a3 - a4\n",
    "\n",
    "print(\"a=%f b=%f   a1=%f  a2=%f a3=%f a4=%f a5=%f\" % (a*180/pi, b*180/pi, a1*180/pi, a2 * 180/pi, a3 * 180/pi, a4 * 180/pi, a5 * 180/pi))\n",
    "\n",
    "a=a5\n",
    "\n",
    "r1 = A * cos(a) + B * sin(a-b)\n",
    "h1 = -A * sin(a) + B * cos(a-b)\n",
    "\n",
    "print(\"r1=%f h1=%f\" % (r1,h1))\n",
    "\n",
    "ax.plot([0,r1, r1,0], [0,0,h1,0], color='blue')\n",
    "ax.plot([A * cos(a),A * cos(a) + B* sin(a)], [-A * sin(a),-A * sin(a) + B * cos(a)], color='red', linestyle='--')\n",
    "#ax.plot([0,r1], [0,h1], color='blue')\n",
    "ax.plot([0,A * cos(a),r1],[0, -A * sin(a),h1], color='black', linewidth=5)\n",
    "\n",
    "ax.grid(True)\n",
    "#plt.axis('scaled')\n",
    "plt.show()"
   ]
  },
  {
   "cell_type": "markdown",
   "metadata": {},
   "source": [
    "sqrt(301)"
   ]
  },
  {
   "cell_type": "code",
   "execution_count": 2,
   "metadata": {},
   "outputs": [
    {
     "data": {
      "image/png": "[encoded data removed]",
      "text/plain": [
       "<Figure size 432x288 with 1 Axes>"
      ]
     },
     "metadata": {
      "needs_background": "light"
     },
     "output_type": "display_data"
    }
   ],
   "source": [
    "from math import *\n",
    "import matplotlib.pyplot as plt\n",
    "\n",
    "A = 75\n",
    "B = 163\n",
    "C = 48\n",
    "\n",
    "fig, ax = plt.subplots()\n",
    "\n",
    "#a = \n",
    "#b = \n",
    "c = 0 * pi / 180\n",
    "\n",
    "\n",
    "x1 = C * cos(c)\n",
    "y1 = C * sin(c)\n",
    "\n",
    "#x2 = \n",
    "#y2 = \n",
    "\n",
    "ax.plot([0,x1], [0,y1], color='black', linewidth=5)\n",
    "\n",
    "ax.grid(True)\n",
    "plt.show()"
   ]
  },
  {
   "cell_type": "code",
   "execution_count": 9,
   "metadata": {},
   "outputs": [
    {
     "name": "stdout",
     "output_type": "stream",
     "text": [
      "61.464033703585635 88.27281613271195 264.81844839813584\n"
     ]
    }
   ],
   "source": [
    "from math import *\n",
    "\n",
    "A = 75\n",
    "B = 163\n",
    "C = 48\n",
    "\n",
    "\n",
    "XE = C\n",
    "XM = C\n",
    "\n",
    "H = B - A\n",
    "\n",
    "R = C + sqrt((A + B)**2 - H**2)\n",
    "\n",
    "D = sqrt(R**2 - XE**2)\n",
    "TAM = D / (XE + 2 * XM)\n",
    "AM = atan(TAM) * 180 / pi\n",
    "S2 = XM * TAM\n",
    "\n",
    "\n",
    "\n",
    "print(AM,S2,D)"
   ]
  },
  {
   "cell_type": "code",
   "execution_count": 9,
   "metadata": {},
   "outputs": [
    {
     "name": "stdout",
     "output_type": "stream",
     "text": [
      "D= 270.16256944337226\n",
      "H0= 88\n",
      "S1= 169.52450823885005\n",
      "S2= 270.1625694433722\n",
      "X2= 233.96764828963794\n",
      "X2min= 146.81253069890855\n"
     ]
    }
   ],
   "source": [
    "from math import *\n",
    "\n",
    "A = 75\n",
    "B = 163\n",
    "C = 63\n",
    "\n",
    "# X for edge legs\n",
    "X1 = C\n",
    "\n",
    "H0 = B - A\n",
    "\n",
    "# max leg length\n",
    "R = C + sqrt((A + B)**2 - H0**2)\n",
    "\n",
    "# max distance an edge leg can reach, watchimg from top\n",
    "D = sqrt(R*R - H0*H0)\n",
    "print(\"D=\", D)\n",
    "\n",
    "# max angle for middle leg, min andlge for edge leg\n",
    "A2 = 30 * pi / 180\n",
    "\n",
    "\"\"\"\n",
    "45:\n",
    "S1= 201.7695149773009\n",
    "S2= 359.69100798323035\n",
    "X2= 179.84550399161517\n",
    "X2min= 100.88475748865044\n",
    "\n",
    "\n",
    "40:\n",
    "S1= 209.49273268079145\n",
    "S2= 326.97313814373746\n",
    "X2= 194.83570603230103\n",
    "X2min= 124.83185839735584\n",
    "\n",
    "35:\n",
    "S1= 216.15955314323483\n",
    "S2= 291.766805291192\n",
    "X2= 208.34309070506526\n",
    "X2min= 154.3539174798885\n",
    "\n",
    "30:\n",
    "S1= 222.05670205619887\n",
    "S2= 254.33995087676675\n",
    "X2= 220.26485865656625\n",
    "X2min= 192.30674506126044\n",
    "\n",
    "\"\"\"\n",
    "\n",
    "\n",
    "\n",
    "# step of a middle leg\n",
    "S2 = 2 * D * sin(A2)\n",
    "\n",
    "# X of middle leg\n",
    "X2 = D * cos(A2)\n",
    "\n",
    "# step of  an edge leg\n",
    "S1 = sqrt(D*D - X1*X1) - X1 * tan(A2)\n",
    "\n",
    "# min D for middle leg for given A2\n",
    "D2 = S1/(2*sin(A2))\n",
    "\n",
    "#min X for middle leg for given A2\n",
    "X2_min = D2 * cos(A2)\n",
    "\n",
    "print(\"H0=\", H0)\n",
    "print(\"S1=\", S1)\n",
    "print(\"S2=\",S2)\n",
    "print(\"X2=\", X2)\n",
    "print(\"X2min=\",X2_min)"
   ]
  },
  {
   "cell_type": "code",
   "execution_count": 7,
   "metadata": {},
   "outputs": [
    {
     "name": "stdout",
     "output_type": "stream",
     "text": [
      "Y= 149.5436934748889\n",
      "DH= 132.4537655183876\n",
      "Xdown= 169.2679262042506\n",
      "DTdown= 51.81681071569511\n"
     ]
    }
   ],
   "source": [
    "# upper position of legs\n",
    "Hdown = 20\n",
    "\n",
    "# a middle position of edge leg\n",
    "Y = (sqrt(D*D - X1*X1) + X1 * tan(A2)) / 2;\n",
    "\n",
    "# min distance a leg can stand for given Hdown\n",
    "if Hdown + A < B:\n",
    "    DH = sqrt(B*B - (A+Hdown)**2)\n",
    "else:\n",
    "    DH = 0\n",
    "\n",
    "# min X to lift leg\n",
    "Xdown = (DH + C) * cos(A2)\n",
    "\n",
    "# min DY to lift leg\n",
    "DYdown = Y - (DH + C) * sin(A2)\n",
    "\n",
    "print(\"Y=\",Y)\n",
    "print(\"DH=\", DH)\n",
    "print(\"Xdown=\", Xdown)\n",
    "print(\"DYdown=\", DYdown)"
   ]
  },
  {
   "cell_type": "code",
   "execution_count": 10,
   "metadata": {},
   "outputs": [
    {
     "name": "stdout",
     "output_type": "stream",
     "text": [
      "D= 278.97222043587\n",
      "S1= 203.74951795362645\n",
      "X1= 111.47585780550794\n",
      "S2= 235.7975097491012\n",
      "X2= 252.8346957479338\n",
      "X2_min= 218.47112565101924\n"
     ]
    }
   ],
   "source": [
    "from math import *\n",
    "\n",
    "A = 75\n",
    "B = 163\n",
    "C = 63\n",
    "\n",
    "#minimal D\n",
    "D0 = 60\n",
    "\n",
    "# minimal H\n",
    "#H0 = sqrt(B*B - D0*D0) - A\n",
    "H0 = 100\n",
    "\n",
    "# max distance leg can reach, watchimg from top\n",
    "D = C + sqrt((A + B)**2 - H0**2)\n",
    "\n",
    "print(\"D=\", D)\n",
    "\n",
    "\n",
    "# max angle for middle leg, min andlge for edge leg\n",
    "A2 = 25 * pi / 180\n",
    "\n",
    "# step of a middle leg\n",
    "S2 = 2 * D * sin(A2)\n",
    "\n",
    "# X of middle leg\n",
    "X2 = D * cos(A2)\n",
    "\n",
    "# X of edge leg\n",
    "# min value\n",
    "X1 = (C + D0) * cos(A2)\n",
    "\n",
    "# step of  an edge leg\n",
    "S1 = sqrt(D*D - X1*X1) - X1 * tan(A2)\n",
    "\n",
    "# min D+C for middle leg for given A2\n",
    "DC2 = S1/(2*sin(A2))\n",
    "\n",
    "#min X for middle leg for given A2\n",
    "X2_min = DC2 * cos(A2)\n",
    "\n",
    "print(\"S1=\", S1)\n",
    "print(\"X1=\", X1)\n",
    "print(\"S2=\", S2)\n",
    "print(\"X2=\", X2)\n",
    "print(\"X2_min=\", X2_min)"
   ]
  },
  {
   "cell_type": "code",
   "execution_count": 3,
   "metadata": {},
   "outputs": [
    {
     "ename": "NameError",
     "evalue": "name 'a' is not defined",
     "output_type": "error",
     "traceback": [
      "\u001b[1;31m---------------------------------------------------------------------------\u001b[0m",
      "\u001b[1;31mNameError\u001b[0m                                 Traceback (most recent call last)",
      "\u001b[1;32m<ipython-input-3-4cd08e028b83>\u001b[0m in \u001b[0;36m<module>\u001b[1;34m\u001b[0m\n\u001b[0;32m     11\u001b[0m \u001b[0mr\u001b[0m \u001b[1;33m=\u001b[0m \u001b[0msqrt\u001b[0m\u001b[1;33m(\u001b[0m\u001b[0mX\u001b[0m\u001b[1;33m*\u001b[0m\u001b[0mX\u001b[0m \u001b[1;33m+\u001b[0m \u001b[0mY\u001b[0m\u001b[1;33m*\u001b[0m\u001b[0mY\u001b[0m\u001b[1;33m)\u001b[0m \u001b[1;33m-\u001b[0m \u001b[0mC\u001b[0m\u001b[1;33m;\u001b[0m\u001b[1;33m\u001b[0m\u001b[1;33m\u001b[0m\u001b[0m\n\u001b[0;32m     12\u001b[0m \u001b[0mr2\u001b[0m \u001b[1;33m=\u001b[0m \u001b[0mr\u001b[0m \u001b[1;33m*\u001b[0m \u001b[0mr\u001b[0m\u001b[1;33m;\u001b[0m\u001b[1;33m\u001b[0m\u001b[1;33m\u001b[0m\u001b[0m\n\u001b[1;32m---> 13\u001b[1;33m \u001b[0mha\u001b[0m \u001b[1;33m=\u001b[0m \u001b[0mH\u001b[0m \u001b[1;33m+\u001b[0m \u001b[0ma\u001b[0m\u001b[1;33m;\u001b[0m\u001b[1;33m\u001b[0m\u001b[1;33m\u001b[0m\u001b[0m\n\u001b[0m\u001b[0;32m     14\u001b[0m \u001b[1;33m\u001b[0m\u001b[0m\n\u001b[0;32m     15\u001b[0m \u001b[0mprint\u001b[0m\u001b[1;33m(\u001b[0m\u001b[1;34m\"r=\"\u001b[0m\u001b[1;33m,\u001b[0m\u001b[0mr\u001b[0m\u001b[1;33m)\u001b[0m\u001b[1;33m\u001b[0m\u001b[1;33m\u001b[0m\u001b[0m\n",
      "\u001b[1;31mNameError\u001b[0m: name 'a' is not defined"
     ]
    }
   ],
   "source": [
    "from math import *\n",
    "\n",
    "A = 75\n",
    "B = 163\n",
    "C = 63\n",
    "\n",
    "X = 100\n",
    "Y = 158.957\n",
    "H = 20\n",
    "\n",
    "r = sqrt(X*X + Y*Y) - C;\n",
    "r2 = r * r;\n",
    "ha = H + a;\n",
    "\n",
    "print(\"r=\",r)\n",
    "print(\"ha=\",ha)\n",
    "print(r2 + ha * ha,B2)"
   ]
  },
  {
   "cell_type": "code",
   "execution_count": null,
   "metadata": {},
   "outputs": [],
   "source": []
  }
 ],
 "metadata": {
  "kernelspec": {
   "display_name": "Python 3",
   "language": "python",
   "name": "python3"
  },
  "language_info": {
   "codemirror_mode": {
    "name": "ipython",
    "version": 3
   },
   "file_extension": ".py",
   "mimetype": "text/x-python",
   "name": "python",
   "nbconvert_exporter": "python",
   "pygments_lexer": "ipython3",
   "version": "3.7.6"
  }
 },
 "nbformat": 4,
 "nbformat_minor": 5
}
